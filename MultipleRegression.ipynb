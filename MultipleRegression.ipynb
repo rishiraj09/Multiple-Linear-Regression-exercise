{
 "cells": [
  {
   "cell_type": "code",
   "execution_count": 110,
   "metadata": {},
   "outputs": [],
   "source": [
    "import numpy as np\n",
    "import matplotlib.pyplot as plt\n",
    "import pandas as pd\n",
    "\n",
    "%matplotlib inline"
   ]
  },
  {
   "cell_type": "code",
   "execution_count": 111,
   "metadata": {},
   "outputs": [],
   "source": [
    "dataset = pd.read_csv('50_Startups.csv')\n"
   ]
  },
  {
   "cell_type": "code",
   "execution_count": 112,
   "metadata": {},
   "outputs": [
    {
     "data": {
      "text/html": [
       "<div>\n",
       "<style scoped>\n",
       "    .dataframe tbody tr th:only-of-type {\n",
       "        vertical-align: middle;\n",
       "    }\n",
       "\n",
       "    .dataframe tbody tr th {\n",
       "        vertical-align: top;\n",
       "    }\n",
       "\n",
       "    .dataframe thead th {\n",
       "        text-align: right;\n",
       "    }\n",
       "</style>\n",
       "<table border=\"1\" class=\"dataframe\">\n",
       "  <thead>\n",
       "    <tr style=\"text-align: right;\">\n",
       "      <th></th>\n",
       "      <th>R&amp;D Spend</th>\n",
       "      <th>Administration</th>\n",
       "      <th>Marketing Spend</th>\n",
       "      <th>State</th>\n",
       "      <th>Profit</th>\n",
       "    </tr>\n",
       "  </thead>\n",
       "  <tbody>\n",
       "    <tr>\n",
       "      <th>0</th>\n",
       "      <td>165349.20</td>\n",
       "      <td>136897.80</td>\n",
       "      <td>471784.10</td>\n",
       "      <td>New York</td>\n",
       "      <td>192261.83</td>\n",
       "    </tr>\n",
       "    <tr>\n",
       "      <th>1</th>\n",
       "      <td>162597.70</td>\n",
       "      <td>151377.59</td>\n",
       "      <td>443898.53</td>\n",
       "      <td>California</td>\n",
       "      <td>191792.06</td>\n",
       "    </tr>\n",
       "    <tr>\n",
       "      <th>2</th>\n",
       "      <td>153441.51</td>\n",
       "      <td>101145.55</td>\n",
       "      <td>407934.54</td>\n",
       "      <td>Florida</td>\n",
       "      <td>191050.39</td>\n",
       "    </tr>\n",
       "    <tr>\n",
       "      <th>3</th>\n",
       "      <td>144372.41</td>\n",
       "      <td>118671.85</td>\n",
       "      <td>383199.62</td>\n",
       "      <td>New York</td>\n",
       "      <td>182901.99</td>\n",
       "    </tr>\n",
       "    <tr>\n",
       "      <th>4</th>\n",
       "      <td>142107.34</td>\n",
       "      <td>91391.77</td>\n",
       "      <td>366168.42</td>\n",
       "      <td>Florida</td>\n",
       "      <td>166187.94</td>\n",
       "    </tr>\n",
       "  </tbody>\n",
       "</table>\n",
       "</div>"
      ],
      "text/plain": [
       "   R&D Spend  Administration  Marketing Spend       State     Profit\n",
       "0  165349.20       136897.80        471784.10    New York  192261.83\n",
       "1  162597.70       151377.59        443898.53  California  191792.06\n",
       "2  153441.51       101145.55        407934.54     Florida  191050.39\n",
       "3  144372.41       118671.85        383199.62    New York  182901.99\n",
       "4  142107.34        91391.77        366168.42     Florida  166187.94"
      ]
     },
     "execution_count": 112,
     "metadata": {},
     "output_type": "execute_result"
    }
   ],
   "source": [
    "dataset.head()\n"
   ]
  },
  {
   "cell_type": "code",
   "execution_count": 113,
   "metadata": {},
   "outputs": [
    {
     "name": "stdout",
     "output_type": "stream",
     "text": [
      "<class 'pandas.core.frame.DataFrame'>\n",
      "RangeIndex: 50 entries, 0 to 49\n",
      "Data columns (total 5 columns):\n",
      "R&D Spend          50 non-null float64\n",
      "Administration     50 non-null float64\n",
      "Marketing Spend    50 non-null float64\n",
      "State              50 non-null object\n",
      "Profit             50 non-null float64\n",
      "dtypes: float64(4), object(1)\n",
      "memory usage: 2.0+ KB\n"
     ]
    }
   ],
   "source": [
    "dataset.info()"
   ]
  },
  {
   "cell_type": "code",
   "execution_count": 114,
   "metadata": {},
   "outputs": [
    {
     "data": {
      "text/html": [
       "<div>\n",
       "<style scoped>\n",
       "    .dataframe tbody tr th:only-of-type {\n",
       "        vertical-align: middle;\n",
       "    }\n",
       "\n",
       "    .dataframe tbody tr th {\n",
       "        vertical-align: top;\n",
       "    }\n",
       "\n",
       "    .dataframe thead th {\n",
       "        text-align: right;\n",
       "    }\n",
       "</style>\n",
       "<table border=\"1\" class=\"dataframe\">\n",
       "  <thead>\n",
       "    <tr style=\"text-align: right;\">\n",
       "      <th></th>\n",
       "      <th>R&amp;D Spend</th>\n",
       "      <th>Administration</th>\n",
       "      <th>Marketing Spend</th>\n",
       "      <th>Profit</th>\n",
       "    </tr>\n",
       "  </thead>\n",
       "  <tbody>\n",
       "    <tr>\n",
       "      <th>count</th>\n",
       "      <td>50.000000</td>\n",
       "      <td>50.000000</td>\n",
       "      <td>50.000000</td>\n",
       "      <td>50.000000</td>\n",
       "    </tr>\n",
       "    <tr>\n",
       "      <th>mean</th>\n",
       "      <td>73721.615600</td>\n",
       "      <td>121344.639600</td>\n",
       "      <td>211025.097800</td>\n",
       "      <td>112012.639200</td>\n",
       "    </tr>\n",
       "    <tr>\n",
       "      <th>std</th>\n",
       "      <td>45902.256482</td>\n",
       "      <td>28017.802755</td>\n",
       "      <td>122290.310726</td>\n",
       "      <td>40306.180338</td>\n",
       "    </tr>\n",
       "    <tr>\n",
       "      <th>min</th>\n",
       "      <td>0.000000</td>\n",
       "      <td>51283.140000</td>\n",
       "      <td>0.000000</td>\n",
       "      <td>14681.400000</td>\n",
       "    </tr>\n",
       "    <tr>\n",
       "      <th>25%</th>\n",
       "      <td>39936.370000</td>\n",
       "      <td>103730.875000</td>\n",
       "      <td>129300.132500</td>\n",
       "      <td>90138.902500</td>\n",
       "    </tr>\n",
       "    <tr>\n",
       "      <th>50%</th>\n",
       "      <td>73051.080000</td>\n",
       "      <td>122699.795000</td>\n",
       "      <td>212716.240000</td>\n",
       "      <td>107978.190000</td>\n",
       "    </tr>\n",
       "    <tr>\n",
       "      <th>75%</th>\n",
       "      <td>101602.800000</td>\n",
       "      <td>144842.180000</td>\n",
       "      <td>299469.085000</td>\n",
       "      <td>139765.977500</td>\n",
       "    </tr>\n",
       "    <tr>\n",
       "      <th>max</th>\n",
       "      <td>165349.200000</td>\n",
       "      <td>182645.560000</td>\n",
       "      <td>471784.100000</td>\n",
       "      <td>192261.830000</td>\n",
       "    </tr>\n",
       "  </tbody>\n",
       "</table>\n",
       "</div>"
      ],
      "text/plain": [
       "           R&D Spend  Administration  Marketing Spend         Profit\n",
       "count      50.000000       50.000000        50.000000      50.000000\n",
       "mean    73721.615600   121344.639600    211025.097800  112012.639200\n",
       "std     45902.256482    28017.802755    122290.310726   40306.180338\n",
       "min         0.000000    51283.140000         0.000000   14681.400000\n",
       "25%     39936.370000   103730.875000    129300.132500   90138.902500\n",
       "50%     73051.080000   122699.795000    212716.240000  107978.190000\n",
       "75%    101602.800000   144842.180000    299469.085000  139765.977500\n",
       "max    165349.200000   182645.560000    471784.100000  192261.830000"
      ]
     },
     "execution_count": 114,
     "metadata": {},
     "output_type": "execute_result"
    }
   ],
   "source": [
    "dataset.describe()"
   ]
  },
  {
   "cell_type": "code",
   "execution_count": 127,
   "metadata": {},
   "outputs": [],
   "source": [
    "X=dataset.iloc[:,:-1].values\n",
    "y=dataset.iloc[:,4].values\n"
   ]
  },
  {
   "cell_type": "code",
   "execution_count": 166,
   "metadata": {},
   "outputs": [
    {
     "name": "stdout",
     "output_type": "stream",
     "text": [
      "[165349.2 136897.8 471784.1 'New York']\n",
      "[162597.7 151377.59 443898.53 'California']\n",
      "[153441.51 101145.55 407934.54 'Florida']\n",
      "[144372.41 118671.85 383199.62 'New York']\n",
      "[142107.34 91391.77 366168.42 'Florida']\n",
      "[131876.9 99814.71 362861.36 'New York']\n",
      "[134615.46 147198.87 127716.82 'California']\n",
      "[130298.13 145530.06 323876.68 'Florida']\n",
      "[120542.52 148718.95 311613.29 'New York']\n",
      "[123334.88 108679.17 304981.62 'California']\n",
      "[101913.08 110594.11 229160.95 'Florida']\n",
      "[100671.96 91790.61 249744.55 'California']\n",
      "[93863.75 127320.38 249839.44 'Florida']\n",
      "[91992.39 135495.07 252664.93 'California']\n",
      "[119943.24 156547.42 256512.92 'Florida']\n",
      "[114523.61 122616.84 261776.23 'New York']\n",
      "[78013.11 121597.55 264346.06 'California']\n",
      "[94657.16 145077.58 282574.31 'New York']\n",
      "[91749.16 114175.79 294919.57 'Florida']\n",
      "[86419.7 153514.11 0.0 'New York']\n",
      "[76253.86 113867.3 298664.47 'California']\n",
      "[78389.47 153773.43 299737.29 'New York']\n",
      "[73994.56 122782.75 303319.26 'Florida']\n",
      "[67532.53 105751.03 304768.73 'Florida']\n",
      "[77044.01 99281.34 140574.81 'New York']\n",
      "[64664.71 139553.16 137962.62 'California']\n",
      "[75328.87 144135.98 134050.07 'Florida']\n",
      "[72107.6 127864.55 353183.81 'New York']\n",
      "[66051.52 182645.56 118148.2 'Florida']\n",
      "[65605.48 153032.06 107138.38 'New York']\n",
      "[61994.48 115641.28 91131.24 'Florida']\n",
      "[61136.38 152701.92 88218.23 'New York']\n",
      "[63408.86 129219.61 46085.25 'California']\n",
      "[55493.95 103057.49 214634.81 'Florida']\n",
      "[46426.07 157693.92 210797.67 'California']\n",
      "[46014.02 85047.44 205517.64 'New York']\n",
      "[28663.76 127056.21 201126.82 'Florida']\n",
      "[44069.95 51283.14 197029.42 'California']\n",
      "[20229.59 65947.93 185265.1 'New York']\n",
      "[38558.51 82982.09 174999.3 'California']\n",
      "[28754.33 118546.05 172795.67 'California']\n",
      "[27892.92 84710.77 164470.71 'Florida']\n",
      "[23640.93 96189.63 148001.11 'California']\n",
      "[15505.73 127382.3 35534.17 'New York']\n",
      "[22177.74 154806.14 28334.72 'California']\n",
      "[1000.23 124153.04 1903.93 'New York']\n",
      "[1315.46 115816.21 297114.46 'Florida']\n",
      "[0.0 135426.92 0.0 'California']\n",
      "[542.05 51743.15 0.0 'New York']\n",
      "[0.0 116983.8 45173.06 'California']\n"
     ]
    }
   ],
   "source": [
    "for i in X:\n",
    "    print(str(i))\n",
    "        \n",
    "    "
   ]
  },
  {
   "cell_type": "code",
   "execution_count": 22,
   "metadata": {},
   "outputs": [
    {
     "data": {
      "text/plain": [
       "array([192261.83, 191792.06, 191050.39, 182901.99, 166187.94, 156991.12,\n",
       "       156122.51, 155752.6 , 152211.77, 149759.96, 146121.95, 144259.4 ,\n",
       "       141585.52, 134307.35, 132602.65, 129917.04, 126992.93, 125370.37,\n",
       "       124266.9 , 122776.86, 118474.03, 111313.02, 110352.25, 108733.99,\n",
       "       108552.04, 107404.34, 105733.54, 105008.31, 103282.38, 101004.64,\n",
       "        99937.59,  97483.56,  97427.84,  96778.92,  96712.8 ,  96479.51,\n",
       "        90708.19,  89949.14,  81229.06,  81005.76,  78239.91,  77798.83,\n",
       "        71498.49,  69758.98,  65200.33,  64926.08,  49490.75,  42559.73,\n",
       "        35673.41,  14681.4 ])"
      ]
     },
     "execution_count": 22,
     "metadata": {},
     "output_type": "execute_result"
    }
   ],
   "source": [
    "y"
   ]
  },
  {
   "cell_type": "code",
   "execution_count": 167,
   "metadata": {},
   "outputs": [],
   "source": [
    "from sklearn.preprocessing import LabelEncoder, OneHotEncoder\n",
    "labelencoder_X = LabelEncoder()\n",
    "X[:, 3] = labelencoder_X.fit_transform(X[:, 3])\n",
    "onehotencoder = OneHotEncoder(categories='auto')\n",
    "X = onehotencoder.fit_transform(X).toarray()\n"
   ]
  },
  {
   "cell_type": "code",
   "execution_count": 168,
   "metadata": {},
   "outputs": [],
   "source": [
    "#avoiding the dumy variable trap\n",
    "\n",
    "X=X[:, 1:]"
   ]
  },
  {
   "cell_type": "code",
   "execution_count": 169,
   "metadata": {},
   "outputs": [],
   "source": [
    "from sklearn.model_selection import train_test_split\n",
    "X_train, X_test,y_train,y_test = train_test_split(X,y,test_size=0.2, random_state=0)"
   ]
  },
  {
   "cell_type": "code",
   "execution_count": 170,
   "metadata": {},
   "outputs": [
    {
     "data": {
      "text/plain": [
       "LinearRegression(copy_X=True, fit_intercept=True, n_jobs=None,\n",
       "         normalize=False)"
      ]
     },
     "execution_count": 170,
     "metadata": {},
     "output_type": "execute_result"
    }
   ],
   "source": [
    "from sklearn.linear_model import LinearRegression\n",
    "regressor = LinearRegression()\n",
    "regressor.fit(X_train,y_train)\n"
   ]
  },
  {
   "cell_type": "code",
   "execution_count": 172,
   "metadata": {},
   "outputs": [],
   "source": [
    "y_pred = regressor.predict(X_test)\n"
   ]
  },
  {
   "cell_type": "code",
   "execution_count": 173,
   "metadata": {},
   "outputs": [
    {
     "name": "stdout",
     "output_type": "stream",
     "text": [
      "110421.25993299604\n",
      "99635.07317790235\n",
      "110421.25993299604\n",
      "110421.25993299604\n",
      "110421.25993299604\n",
      "119829.39601805006\n",
      "119829.39601805004\n",
      "119829.39601805006\n",
      "110421.25993299606\n",
      "110421.25993299604\n"
     ]
    }
   ],
   "source": [
    "for i in y_pred:\n",
    "    print(i)\n"
   ]
  },
  {
   "cell_type": "code",
   "execution_count": 174,
   "metadata": {},
   "outputs": [
    {
     "name": "stdout",
     "output_type": "stream",
     "text": [
      "103282.38\n",
      "144259.4\n",
      "146121.95\n",
      "77798.83\n",
      "191050.39\n",
      "105008.31\n",
      "81229.06\n",
      "97483.56\n",
      "110352.25\n",
      "166187.94\n"
     ]
    }
   ],
   "source": [
    "for j in y_test:\n",
    "    print(j)"
   ]
  },
  {
   "cell_type": "code",
   "execution_count": 175,
   "metadata": {},
   "outputs": [],
   "source": [
    "import statsmodels.formula.api as sm\n"
   ]
  },
  {
   "cell_type": "code",
   "execution_count": 103,
   "metadata": {},
   "outputs": [],
   "source": [
    "X=np.append(arr=np.ones((50, 1)).astype(int), values=X, axis = 1)"
   ]
  },
  {
   "cell_type": "code",
   "execution_count": 177,
   "metadata": {},
   "outputs": [],
   "source": [
    "X_opt = X[:, [0,1,2,3,4,5]]\n",
    "regressor_OLS = sm.OLS(endog=y, exog= X_opt).fit()"
   ]
  },
  {
   "cell_type": "code",
   "execution_count": 179,
   "metadata": {},
   "outputs": [
    {
     "data": {
      "text/html": [
       "<table class=\"simpletable\">\n",
       "<caption>OLS Regression Results</caption>\n",
       "<tr>\n",
       "  <th>Dep. Variable:</th>            <td>y</td>        <th>  R-squared:         </th> <td>   0.033</td>\n",
       "</tr>\n",
       "<tr>\n",
       "  <th>Model:</th>                   <td>OLS</td>       <th>  Adj. R-squared:    </th> <td>  -0.098</td>\n",
       "</tr>\n",
       "<tr>\n",
       "  <th>Method:</th>             <td>Least Squares</td>  <th>  F-statistic:       </th> <td>  0.2539</td>\n",
       "</tr>\n",
       "<tr>\n",
       "  <th>Date:</th>             <td>Fri, 01 Feb 2019</td> <th>  Prob (F-statistic):</th>  <td> 0.955</td> \n",
       "</tr>\n",
       "<tr>\n",
       "  <th>Time:</th>                 <td>03:00:58</td>     <th>  Log-Likelihood:    </th> <td> -654.40</td>\n",
       "</tr>\n",
       "<tr>\n",
       "  <th>No. Observations:</th>      <td>    50</td>      <th>  AIC:               </th> <td>   1321.</td>\n",
       "</tr>\n",
       "<tr>\n",
       "  <th>Df Residuals:</th>          <td>    44</td>      <th>  BIC:               </th> <td>   1332.</td>\n",
       "</tr>\n",
       "<tr>\n",
       "  <th>Df Model:</th>              <td>     6</td>      <th>                     </th>     <td> </td>   \n",
       "</tr>\n",
       "<tr>\n",
       "  <th>Covariance Type:</th>      <td>nonrobust</td>    <th>                     </th>     <td> </td>   \n",
       "</tr>\n",
       "</table>\n",
       "<table class=\"simpletable\">\n",
       "<tr>\n",
       "   <td></td>     <th>coef</th>     <th>std err</th>      <th>t</th>      <th>P>|t|</th>  <th>[0.025</th>    <th>0.975]</th>  \n",
       "</tr>\n",
       "<tr>\n",
       "  <th>x1</th> <td> 3.567e+04</td> <td> 1.25e+05</td> <td>    0.286</td> <td> 0.776</td> <td>-2.15e+05</td> <td> 2.87e+05</td>\n",
       "</tr>\n",
       "<tr>\n",
       "  <th>x2</th> <td> 6.493e+04</td> <td> 1.25e+05</td> <td>    0.521</td> <td> 0.605</td> <td>-1.86e+05</td> <td> 3.16e+05</td>\n",
       "</tr>\n",
       "<tr>\n",
       "  <th>x3</th> <td> 4.949e+04</td> <td> 1.25e+05</td> <td>    0.397</td> <td> 0.693</td> <td>-2.02e+05</td> <td> 3.01e+05</td>\n",
       "</tr>\n",
       "<tr>\n",
       "  <th>x4</th> <td> 6.976e+04</td> <td> 1.25e+05</td> <td>    0.560</td> <td> 0.578</td> <td>-1.81e+05</td> <td> 3.21e+05</td>\n",
       "</tr>\n",
       "<tr>\n",
       "  <th>x5</th> <td> 8.123e+04</td> <td> 1.25e+05</td> <td>    0.652</td> <td> 0.518</td> <td> -1.7e+05</td> <td> 3.32e+05</td>\n",
       "</tr>\n",
       "<tr>\n",
       "  <th>x6</th> <td>  6.52e+04</td> <td> 1.25e+05</td> <td>    0.523</td> <td> 0.603</td> <td>-1.86e+05</td> <td> 3.16e+05</td>\n",
       "</tr>\n",
       "</table>\n",
       "<table class=\"simpletable\">\n",
       "<tr>\n",
       "  <th>Omnibus:</th>       <td> 3.633</td> <th>  Durbin-Watson:     </th> <td>   0.036</td>\n",
       "</tr>\n",
       "<tr>\n",
       "  <th>Prob(Omnibus):</th> <td> 0.163</td> <th>  Jarque-Bera (JB):  </th> <td>   3.220</td>\n",
       "</tr>\n",
       "<tr>\n",
       "  <th>Skew:</th>          <td>-0.620</td> <th>  Prob(JB):          </th> <td>   0.200</td>\n",
       "</tr>\n",
       "<tr>\n",
       "  <th>Kurtosis:</th>      <td> 2.916</td> <th>  Cond. No.          </th> <td>    1.00</td>\n",
       "</tr>\n",
       "</table><br/><br/>Warnings:<br/>[1] Standard Errors assume that the covariance matrix of the errors is correctly specified."
      ],
      "text/plain": [
       "<class 'statsmodels.iolib.summary.Summary'>\n",
       "\"\"\"\n",
       "                            OLS Regression Results                            \n",
       "==============================================================================\n",
       "Dep. Variable:                      y   R-squared:                       0.033\n",
       "Model:                            OLS   Adj. R-squared:                 -0.098\n",
       "Method:                 Least Squares   F-statistic:                    0.2539\n",
       "Date:                Fri, 01 Feb 2019   Prob (F-statistic):              0.955\n",
       "Time:                        03:00:58   Log-Likelihood:                -654.40\n",
       "No. Observations:                  50   AIC:                             1321.\n",
       "Df Residuals:                      44   BIC:                             1332.\n",
       "Df Model:                           6                                         \n",
       "Covariance Type:            nonrobust                                         \n",
       "==============================================================================\n",
       "                 coef    std err          t      P>|t|      [0.025      0.975]\n",
       "------------------------------------------------------------------------------\n",
       "x1          3.567e+04   1.25e+05      0.286      0.776   -2.15e+05    2.87e+05\n",
       "x2          6.493e+04   1.25e+05      0.521      0.605   -1.86e+05    3.16e+05\n",
       "x3          4.949e+04   1.25e+05      0.397      0.693   -2.02e+05    3.01e+05\n",
       "x4          6.976e+04   1.25e+05      0.560      0.578   -1.81e+05    3.21e+05\n",
       "x5          8.123e+04   1.25e+05      0.652      0.518    -1.7e+05    3.32e+05\n",
       "x6           6.52e+04   1.25e+05      0.523      0.603   -1.86e+05    3.16e+05\n",
       "==============================================================================\n",
       "Omnibus:                        3.633   Durbin-Watson:                   0.036\n",
       "Prob(Omnibus):                  0.163   Jarque-Bera (JB):                3.220\n",
       "Skew:                          -0.620   Prob(JB):                        0.200\n",
       "Kurtosis:                       2.916   Cond. No.                         1.00\n",
       "==============================================================================\n",
       "\n",
       "Warnings:\n",
       "[1] Standard Errors assume that the covariance matrix of the errors is correctly specified.\n",
       "\"\"\""
      ]
     },
     "execution_count": 179,
     "metadata": {},
     "output_type": "execute_result"
    }
   ],
   "source": [
    "regressor_OLS.summary()"
   ]
  }
 ],
 "metadata": {
  "kernelspec": {
   "display_name": "Python 3",
   "language": "python",
   "name": "python3"
  },
  "language_info": {
   "codemirror_mode": {
    "name": "ipython",
    "version": 3
   },
   "file_extension": ".py",
   "mimetype": "text/x-python",
   "name": "python",
   "nbconvert_exporter": "python",
   "pygments_lexer": "ipython3",
   "version": "3.7.2"
  }
 },
 "nbformat": 4,
 "nbformat_minor": 2
}
